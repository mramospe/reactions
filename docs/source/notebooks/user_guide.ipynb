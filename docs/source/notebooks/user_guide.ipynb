{
 "cells": [
  {
   "cell_type": "markdown",
   "id": "tribal-recall",
   "metadata": {},
   "source": [
    "# User Guide\n",
    "\n",
    "This package provides a common interface to work with reactions and decay trees\n",
    "for several kinds of elements (string-based, PDG, ...). It is therefore good\n",
    "separating the part corresponding to the treatment of the reactions and decays to\n",
    "that corresponding to the underlying elements."
   ]
  },
  {
   "cell_type": "markdown",
   "id": "removable-surface",
   "metadata": {},
   "source": [
    "## Reactions and decays\n",
    "\n",
    "Reactions and decays can be acessed through the `reactions.make_reaction`\n",
    "and `reactions.make_decay` functions, respectively. The syntax for both is very\n",
    "similar, and can be consulted in the [syntax section](../syntax.rst)."
   ]
  },
  {
   "cell_type": "code",
   "execution_count": 1,
   "id": "tough-manitoba",
   "metadata": {
    "execution": {
     "iopub.execute_input": "2021-04-02T16:34:56.509476Z",
     "iopub.status.busy": "2021-04-02T16:34:56.504630Z",
     "iopub.status.idle": "2021-04-02T16:34:56.521249Z",
     "shell.execute_reply": "2021-04-02T16:34:56.521792Z"
    }
   },
   "outputs": [],
   "source": [
    "import reactions\n",
    "r = reactions.reaction('A B -> C D')"
   ]
  },
  {
   "cell_type": "markdown",
   "id": "printable-answer",
   "metadata": {},
   "source": [
    "This reaction corresponds to two reactants `A` and `B` that generate two products `C` and `D`. By default, the elements of this reaction contain simply a string. We can create more complex chains of reactions:"
   ]
  },
  {
   "cell_type": "code",
   "execution_count": 2,
   "id": "aware-possibility",
   "metadata": {
    "execution": {
     "iopub.execute_input": "2021-04-02T16:34:56.530056Z",
     "iopub.status.busy": "2021-04-02T16:34:56.527141Z",
     "iopub.status.idle": "2021-04-02T16:34:56.533862Z",
     "shell.execute_reply": "2021-04-02T16:34:56.531154Z"
    }
   },
   "outputs": [],
   "source": [
    "r = reactions.reaction('A B -> {C D -> {E {F -> G H} -> G H I J}}')"
   ]
  },
  {
   "cell_type": "markdown",
   "id": "consecutive-distribution",
   "metadata": {},
   "source": [
    "Note that we have used curly braces to define the nested reactions. We can now define a function to explore the reaction and print the corresponding tree. This package provides the function `reactions.is_element` to distinguish when the node corresponds to an element and when it corresponds to a reaction or a decay."
   ]
  },
  {
   "cell_type": "code",
   "execution_count": 3,
   "id": "victorian-practitioner",
   "metadata": {
    "execution": {
     "iopub.execute_input": "2021-04-02T16:34:56.548494Z",
     "iopub.status.busy": "2021-04-02T16:34:56.545210Z",
     "iopub.status.idle": "2021-04-02T16:34:56.556711Z",
     "shell.execute_reply": "2021-04-02T16:34:56.557323Z"
    }
   },
   "outputs": [
    {
     "name": "stdout",
     "output_type": "stream",
     "text": [
      "reactants:\n",
      " - name=A\n",
      " - name=B\n",
      "products:\n",
      "  reactants:\n",
      "   - name=C\n",
      "   - name=D\n",
      "  products:\n",
      "    reactants:\n",
      "     - name=E\n",
      "      reactants:\n",
      "       - name=F\n",
      "      products:\n",
      "       - name=G\n",
      "       - name=H\n",
      "    products:\n",
      "     - name=G\n",
      "     - name=H\n",
      "     - name=I\n",
      "     - name=J\n"
     ]
    }
   ],
   "source": [
    "def element_info(e, attributes):\n",
    "    \"\"\" Build a string with the information of an element \"\"\"\n",
    "    attributes = attributes or ('name',)\n",
    "    return ', '.join(f'{a}={getattr(e, a)}' for a in attributes)\n",
    "\n",
    "def print_reaction(reaction, indent=0, attributes=None):\n",
    "    \"\"\" Display a reaction on a simple way \"\"\"\n",
    "    prefix = indent * ' '\n",
    "    print(f'{prefix}reactants:')\n",
    "    for n in reaction.reactants:\n",
    "        if reactions.is_element(n):\n",
    "            print(f'{prefix} - {element_info(n, attributes)}')\n",
    "        else:\n",
    "            print_reaction(n, indent=indent + 2)\n",
    "    print(f'{prefix}products:')\n",
    "    for n in reaction.products:\n",
    "        if reactions.is_element(n):\n",
    "            print(f'{prefix} - {element_info(n, attributes)}')\n",
    "        else:\n",
    "            print_reaction(n, indent=indent + 2)\n",
    "\n",
    "r = reactions.reaction('A B -> {C D -> {E {F -> G H} -> G H I J}}')\n",
    "\n",
    "print_reaction(r)"
   ]
  },
  {
   "cell_type": "markdown",
   "id": "bronze-configuration",
   "metadata": {},
   "source": [
    "A similar function can be defined for decays, that are composed by a head and a set of products:"
   ]
  },
  {
   "cell_type": "code",
   "execution_count": 4,
   "id": "nuclear-access",
   "metadata": {
    "execution": {
     "iopub.execute_input": "2021-04-02T16:34:56.561851Z",
     "iopub.status.busy": "2021-04-02T16:34:56.560827Z",
     "iopub.status.idle": "2021-04-02T16:34:56.575859Z",
     "shell.execute_reply": "2021-04-02T16:34:56.575207Z"
    }
   },
   "outputs": [
    {
     "name": "stdout",
     "output_type": "stream",
     "text": [
      "- name=A\n",
      "  products:\n",
      "  - name=B\n",
      "  - name=C\n",
      "    products:\n",
      "    - name=D\n",
      "    - name=E\n",
      "  - name=F\n"
     ]
    }
   ],
   "source": [
    "def print_decay(decay, indent=0, attributes=None):\n",
    "    \"\"\" Display a reaction on a simple way \"\"\"\n",
    "    prefix = indent * ' '\n",
    "    print(f'{prefix}- {element_info(decay.head, attributes)}')\n",
    "    print(f'{prefix}  products:')\n",
    "    for n in decay.products:\n",
    "        if reactions.is_element(n):\n",
    "            print(f'{prefix}  - {element_info(n, attributes)}')\n",
    "        else:\n",
    "            print_decay(n, indent=indent + 2)\n",
    "\n",
    "d = reactions.decay('A -> B {C -> D E} F')\n",
    "\n",
    "print_decay(d)"
   ]
  },
  {
   "cell_type": "markdown",
   "id": "fitting-expression",
   "metadata": {},
   "source": [
    "The comparison between reactions and decays is not sensitive to the orther specified in the reactants or the products, thus these expressions are all true:"
   ]
  },
  {
   "cell_type": "code",
   "execution_count": 5,
   "id": "offensive-cancellation",
   "metadata": {
    "execution": {
     "iopub.execute_input": "2021-04-02T16:34:56.585490Z",
     "iopub.status.busy": "2021-04-02T16:34:56.580844Z",
     "iopub.status.idle": "2021-04-02T16:34:56.588161Z",
     "shell.execute_reply": "2021-04-02T16:34:56.589375Z"
    }
   },
   "outputs": [],
   "source": [
    "assert(reactions.reaction('A B -> C D') == reactions.reaction('B A -> C D'))\n",
    "assert(reactions.reaction('A B -> C D') == reactions.reaction('A B -> D C'))\n",
    "assert(reactions.reaction('A B -> C D') == reactions.reaction('B A -> D C'))\n",
    "assert(reactions.decay('A -> B C') == reactions.decay('A -> C B'))"
   ]
  },
  {
   "cell_type": "markdown",
   "id": "turned-blackjack",
   "metadata": {},
   "source": [
    "However, note that we can not compare reactions with decays, and the comparison between objects must be done for the same underlying type. The kind of element can be specified on construction using the `kind` keyword argument, as can be seen in the following."
   ]
  },
  {
   "cell_type": "markdown",
   "id": "impressive-airfare",
   "metadata": {},
   "source": [
    "## String elements\n",
    "This is the default kind of element used when constructing reactions and decays. It has just one property, a string."
   ]
  },
  {
   "cell_type": "code",
   "execution_count": 6,
   "id": "indian-count",
   "metadata": {
    "execution": {
     "iopub.execute_input": "2021-04-02T16:34:56.595299Z",
     "iopub.status.busy": "2021-04-02T16:34:56.594518Z",
     "iopub.status.idle": "2021-04-02T16:34:56.598502Z",
     "shell.execute_reply": "2021-04-02T16:34:56.597007Z"
    }
   },
   "outputs": [],
   "source": [
    "B = reactions.string_element('B')\n",
    "assert(B.name == 'B')\n",
    "r1 = reactions.reaction('A B -> C D')\n",
    "assert(r.reactants[1] == B)\n",
    "r2 = reactions.reaction('A B -> C D', kind='string')\n",
    "assert(r.reactants[1] == B)\n",
    "assert(r1 == r2)"
   ]
  },
  {
   "cell_type": "markdown",
   "id": "contrary-outreach",
   "metadata": {},
   "source": [
    "This element can be used for simple operations, but is not useful for scientific applications."
   ]
  },
  {
   "cell_type": "markdown",
   "id": "grave-kennedy",
   "metadata": {},
   "source": [
    "## PDG elements\n",
    "This kind of elements are based on the information from the [Particle Data Group](https://pdglive.lbl.gov) (PDG). Their construction is dones through the `reactions.pdg_database` class, that acts as a service. This class is provided as a singleton, in such a way that any instance depending storing information of the PDG will access it through this class.\n",
    "\n",
    "### Constructing PDG elements\n",
    "\n",
    "There are two ways of building this kind of elements: through the database or through the `reactions.pdg_element` constructor."
   ]
  },
  {
   "cell_type": "code",
   "execution_count": 7,
   "id": "remarkable-huntington",
   "metadata": {
    "execution": {
     "iopub.execute_input": "2021-04-02T16:34:56.608551Z",
     "iopub.status.busy": "2021-04-02T16:34:56.607771Z",
     "iopub.status.idle": "2021-04-02T16:34:56.610202Z",
     "shell.execute_reply": "2021-04-02T16:34:56.609628Z"
    }
   },
   "outputs": [],
   "source": [
    "ks0_db = reactions.pdg_database('KS0')\n",
    "ks0_el = reactions.pdg_element('KS0')\n",
    "assert(ks0_db == ks0_el)"
   ]
  },
  {
   "cell_type": "markdown",
   "id": "related-pressure",
   "metadata": {},
   "source": [
    "We can also access the elements using the PDG identification number."
   ]
  },
  {
   "cell_type": "code",
   "execution_count": 8,
   "id": "swedish-pathology",
   "metadata": {
    "execution": {
     "iopub.execute_input": "2021-04-02T16:34:56.619415Z",
     "iopub.status.busy": "2021-04-02T16:34:56.614704Z",
     "iopub.status.idle": "2021-04-02T16:34:56.621856Z",
     "shell.execute_reply": "2021-04-02T16:34:56.623172Z"
    }
   },
   "outputs": [],
   "source": [
    "ks0_db = reactions.pdg_database(310)\n",
    "ks0_el = reactions.pdg_element(310)\n",
    "assert(ks0_db == ks0_el)"
   ]
  },
  {
   "cell_type": "markdown",
   "id": "finished-headline",
   "metadata": {},
   "source": [
    "The PDG elements contain information about the name and PDG ID (unique for each element), three times the charge, mass and width with their lower and upper errors, and whether the element is self charge-conjugate or not. Reactions and decays can be built with this particles providing the `pdg` value to the `kind` keyword argument."
   ]
  },
  {
   "cell_type": "code",
   "execution_count": 9,
   "id": "thirty-intake",
   "metadata": {
    "execution": {
     "iopub.execute_input": "2021-04-02T16:34:56.628353Z",
     "iopub.status.busy": "2021-04-02T16:34:56.627734Z",
     "iopub.status.idle": "2021-04-02T16:34:56.636885Z",
     "shell.execute_reply": "2021-04-02T16:34:56.636095Z"
    }
   },
   "outputs": [
    {
     "name": "stdout",
     "output_type": "stream",
     "text": [
      "- name=KS0, pdg_id=310, three_charge=0, mass=0.497611, width=7.3508e-15, is_self_cc=True\n",
      "  products:\n",
      "  - name=pi+, pdg_id=211, three_charge=3, mass=0.13957039, width=2.5284e-17, is_self_cc=False\n",
      "  - name=pi-, pdg_id=-211, three_charge=-3, mass=0.13957039, width=2.5284e-17, is_self_cc=False\n"
     ]
    }
   ],
   "source": [
    "decay = reactions.decay('KS0 -> pi+ pi-', kind='pdg')\n",
    "print_decay(decay, attributes=['name', 'pdg_id', 'three_charge', 'mass', 'width', 'is_self_cc'])"
   ]
  },
  {
   "cell_type": "markdown",
   "id": "stone-mount",
   "metadata": {},
   "source": [
    "The values of the mass and width depend on whether these have been measured by the experiments, so for certain particles this information is missing (also for their errors). To check if the information is available you can check whether the returned value is `None`."
   ]
  },
  {
   "cell_type": "code",
   "execution_count": 10,
   "id": "biblical-choir",
   "metadata": {
    "execution": {
     "iopub.execute_input": "2021-04-02T16:34:56.642748Z",
     "iopub.status.busy": "2021-04-02T16:34:56.642177Z",
     "iopub.status.idle": "2021-04-02T16:34:56.644209Z",
     "shell.execute_reply": "2021-04-02T16:34:56.644676Z"
    }
   },
   "outputs": [],
   "source": [
    "assert(reactions.pdg_element('H0').width is None)"
   ]
  },
  {
   "cell_type": "markdown",
   "id": "hourly-maintenance",
   "metadata": {},
   "source": [
    "The full table used to construct this kind of elements can be consulted [here](../_static/pdg_table.pdf)."
   ]
  },
  {
   "cell_type": "markdown",
   "id": "basic-postage",
   "metadata": {},
   "source": [
    "### Registering new PDG elements\n",
    "It is possible to register custom elements in the database for later use."
   ]
  },
  {
   "cell_type": "code",
   "execution_count": 11,
   "id": "existing-masters",
   "metadata": {
    "execution": {
     "iopub.execute_input": "2021-04-02T16:34:56.656968Z",
     "iopub.status.busy": "2021-04-02T16:34:56.656380Z",
     "iopub.status.idle": "2021-04-02T16:34:56.659366Z",
     "shell.execute_reply": "2021-04-02T16:34:56.658829Z"
    }
   },
   "outputs": [
    {
     "name": "stdout",
     "output_type": "stream",
     "text": [
      "name=A, pdg_id=99999999, three_charge=0, is_self_cc=True\n",
      "name=B, pdg_id=99999998, three_charge=0, is_self_cc=True\n"
     ]
    }
   ],
   "source": [
    "# register the element from its initialization arguments\n",
    "reactions.pdg_database.register_element('A', 99999999, 0, None, None, True)\n",
    "A = reactions.pdg_database('A')\n",
    "\n",
    "# directly register the element\n",
    "B = reactions.pdg_element('B', 99999998, 0, None, None, True)\n",
    "reactions.pdg_database.register_element(B)\n",
    "\n",
    "print(element_info(A, attributes=['name', 'pdg_id', 'three_charge', 'is_self_cc']))\n",
    "print(element_info(B, attributes=['name', 'pdg_id', 'three_charge', 'is_self_cc']))"
   ]
  },
  {
   "cell_type": "markdown",
   "id": "simple-while",
   "metadata": {},
   "source": [
    "There is one single condition that need to be satisfied in order to register an element, and is that none of the elements registered in the PDG database must have the same name or PDG ID."
   ]
  },
  {
   "cell_type": "markdown",
   "id": "enormous-physiology",
   "metadata": {},
   "source": [
    "### Using the cache\n",
    "The PDG database allows to use a cache, loading all the elements in memory to boost the access to them. You can do this through the `reactions.pdg_database.enable_cache` function. The cache can later be disabled using `reactions.pdg_database.disable_cache`. Note that this will not remove the elements registered by the user. If you wish to remove all elements you must call to `reactions.pdg_database.clear_cache`."
   ]
  },
  {
   "cell_type": "code",
   "execution_count": 12,
   "id": "impossible-gender",
   "metadata": {
    "execution": {
     "iopub.execute_input": "2021-04-02T16:34:56.667496Z",
     "iopub.status.busy": "2021-04-02T16:34:56.665877Z",
     "iopub.status.idle": "2021-04-02T16:34:56.670338Z",
     "shell.execute_reply": "2021-04-02T16:34:56.669182Z"
    }
   },
   "outputs": [],
   "source": [
    "reactions.pdg_database.enable_cache() # load all particles\n",
    "reactions.pdg_database.register_element(\"Z0'\", 99999997, 0, None, None, True)\n",
    "reactions.pdg_database('Z0') # this is taken from the cache\n",
    "\n",
    "reactions.pdg_database.disable_cache()\n",
    "\n",
    "reactions.pdg_database(\"Z0'\") # our element is still there\n",
    "\n",
    "reactions.pdg_database.clear_cache() # remove all elements in the cache\n",
    "\n",
    "try:\n",
    "    reactions.pdg_database(\"Z0'\") # this will fail\n",
    "    raise RutimeError('Should have failed before')\n",
    "except reactions.LookupError as e:\n",
    "    pass"
   ]
  },
  {
   "cell_type": "markdown",
   "id": "bigger-california",
   "metadata": {},
   "source": []
  }
 ],
 "metadata": {
  "kernelspec": {
   "display_name": "Python 3",
   "language": "python",
   "name": "python3"
  },
  "language_info": {
   "codemirror_mode": {
    "name": "ipython",
    "version": 3
   },
   "file_extension": ".py",
   "mimetype": "text/x-python",
   "name": "python",
   "nbconvert_exporter": "python",
   "pygments_lexer": "ipython3",
   "version": "3.8.5"
  }
 },
 "nbformat": 4,
 "nbformat_minor": 5
}
